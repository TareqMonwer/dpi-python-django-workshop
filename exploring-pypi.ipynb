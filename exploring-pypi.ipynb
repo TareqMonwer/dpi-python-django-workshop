{
 "cells": [
  {
   "cell_type": "code",
   "execution_count": 18,
   "metadata": {},
   "outputs": [],
   "source": [
    "#------------------#\n",
    "# PYPI Exploration #\n",
    "#------------------#\n",
    "\n",
    "# Exploring PyPi (Jokes package)\n",
    "import pyjokes\n",
    "\n",
    "jokes = pyjokes.get_jokes()\n",
    "\n",
    "for joke_number, joke in enumerate(jokes, start=0):\n",
    "    print(f\"{joke_number}:\")\n",
    "    print(joke)\n",
    "    print()"
   ]
  },
  {
   "cell_type": "code",
   "execution_count": null,
   "metadata": {},
   "outputs": [],
   "source": [
    "# Explore Screan Capture\n",
    "from mss import mss\n",
    "\n",
    "with mss(display=':1') as sct:\n",
    "    ss = sct.shot()\n",
    "print(ss)"
   ]
  },
  {
   "cell_type": "code",
   "execution_count": null,
   "metadata": {},
   "outputs": [],
   "source": []
  },
  {
   "cell_type": "code",
   "execution_count": null,
   "metadata": {},
   "outputs": [],
   "source": [
    "#-------------------------#\n",
    "# Python Package managers #\n",
    "#-------------------------#"
   ]
  }
 ],
 "metadata": {
  "kernelspec": {
   "display_name": "Python 3",
   "language": "python",
   "name": "python3"
  },
  "language_info": {
   "codemirror_mode": {
    "name": "ipython",
    "version": 3
   },
   "file_extension": ".py",
   "mimetype": "text/x-python",
   "name": "python",
   "nbconvert_exporter": "python",
   "pygments_lexer": "ipython3",
   "version": "3.7.6"
  }
 },
 "nbformat": 4,
 "nbformat_minor": 4
}
